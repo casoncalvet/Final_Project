{
 "cells": [
  {
   "cell_type": "code",
   "execution_count": 1,
   "id": "3b349674",
   "metadata": {},
   "outputs": [
    {
     "name": "stderr",
     "output_type": "stream",
     "text": [
      "2022-11-29 13:56:07.041635: I tensorflow/core/platform/cpu_feature_guard.cc:193] This TensorFlow binary is optimized with oneAPI Deep Neural Network Library (oneDNN) to use the following CPU instructions in performance-critical operations:  AVX2 FMA\n",
      "To enable them in other operations, rebuild TensorFlow with the appropriate compiler flags.\n"
     ]
    }
   ],
   "source": [
    "import os\n",
    "import cv2\n",
    "import numpy as np\n",
    "\n",
    "#Encoding and Split data into Train/Test Sets\n",
    "from sklearn.preprocessing import LabelEncoder\n",
    "from tensorflow.keras.utils import to_categorical\n",
    "from sklearn.model_selection import train_test_split\n",
    "\n",
    "#Tensorflow Keras CNN Model\n",
    "from tensorflow.keras.models import Sequential\n",
    "from tensorflow.keras.layers import Dense, Dropout, Flatten, Activation, Conv2D, MaxPooling2D\n",
    "from tensorflow.keras.preprocessing.image import ImageDataGenerator\n",
    "from tensorflow.keras.optimizers import Adam,SGD,Adagrad,Adadelta,RMSprop\n",
    "from keras import callbacks\n",
    "\n",
    "#Plot Images\n",
    "import matplotlib.pyplot as plt\n",
    "\n"
   ]
  },
  {
   "cell_type": "markdown",
   "id": "e81a6512",
   "metadata": {},
   "source": [
    "### Generate Training and Testing Data"
   ]
  },
  {
   "cell_type": "code",
   "execution_count": 2,
   "id": "2117d1c3",
   "metadata": {},
   "outputs": [],
   "source": [
    "train_datagen = ImageDataGenerator(rescale=1./255,\n",
    "                                   shear_range=0.2,\n",
    "                                   zoom_range=0.2,\n",
    "                                   rotation_range=45,\n",
    "                                   horizontal_flip=True,\n",
    "                                   vertical_flip=True,\n",
    "                                   validation_split = .2)\n",
    "test_datagen = ImageDataGenerator(rescale=1./255,\n",
    "                                  validation_split = .2)\n"
   ]
  },
  {
   "cell_type": "code",
   "execution_count": 3,
   "id": "be9b5943",
   "metadata": {},
   "outputs": [],
   "source": [
    "epochs= 64\n",
    "batch_size= 32 \n",
    "size= 250 "
   ]
  },
  {
   "cell_type": "markdown",
   "id": "e235757c",
   "metadata": {},
   "source": [
    "## Get training and testing data"
   ]
  },
  {
   "cell_type": "code",
   "execution_count": 4,
   "id": "1d83a313",
   "metadata": {
    "scrolled": true
   },
   "outputs": [
    {
     "name": "stdout",
     "output_type": "stream",
     "text": [
      "Found 3156 images belonging to 5 classes.\n"
     ]
    }
   ],
   "source": [
    "train_generator = train_datagen.flow_from_directory(\n",
    "    directory=r\"./critter_data\",\n",
    "    target_size=(size, size),\n",
    "    color_mode=\"grayscale\",\n",
    "    batch_size=batch_size,\n",
    "    class_mode=\"categorical\",\n",
    "    shuffle=True,\n",
    "    subset=\"training\",\n",
    "    seed=12)\n",
    "\n",
    "valid_generator = train_datagen.flow_from_directory('./critter_data',\n",
    "                                                    target_size=(size,size),\n",
    "                                                    batch_size=batch_size,\n",
    "                                                    class_mode='categorical',\n",
    "                                                    subset='validation', \n",
    "                                                    color_mode=\"grayscale\", \n",
    "                                                    seed= 12, \n",
    "                                                   shuffle=True)"
   ]
  },
  {
   "cell_type": "code",
   "execution_count": 5,
   "id": "6716901a",
   "metadata": {},
   "outputs": [
    {
     "name": "stdout",
     "output_type": "stream",
     "text": [
      "Found 2526 images belonging to 5 classes.\n",
      "Found 630 images belonging to 5 classes.\n"
     ]
    }
   ],
   "source": [
    "\n",
    "\n",
    "test_generator = test_datagen.flow_from_directory('./critter_data',\n",
    "                                                  target_size=(size,size),\n",
    "                                                  batch_size=1,\n",
    "                                                  class_mode='categorical',\n",
    "                                                  shuffle = False,\n",
    "                                                  subset='validation', \n",
    "                                                  color_mode=\"grayscale\", \n",
    "                                                  seed = 12)"
   ]
  },
  {
   "cell_type": "markdown",
   "id": "d4d59b9c",
   "metadata": {},
   "source": [
    "## Architecture of CNN"
   ]
  },
  {
   "cell_type": "code",
   "execution_count": 6,
   "id": "c0ec9038",
   "metadata": {},
   "outputs": [
    {
     "name": "stderr",
     "output_type": "stream",
     "text": [
      "2022-11-29 13:56:32.266246: I tensorflow/core/platform/cpu_feature_guard.cc:193] This TensorFlow binary is optimized with oneAPI Deep Neural Network Library (oneDNN) to use the following CPU instructions in performance-critical operations:  AVX2 FMA\n",
      "To enable them in other operations, rebuild TensorFlow with the appropriate compiler flags.\n"
     ]
    }
   ],
   "source": [
    "# Use a sequential model because each layer has one input tensor (np.array) and one output tensor \n",
    "model = Sequential()\n",
    "\n",
    "# implement simple Convolutional Neural Network (CNN) with Conv2D and 64 filters \n",
    "# kernel_size specifying the width and height of the 2D convolution window\n",
    "# chose 3 beacause input images size = 128 \n",
    "model.add(Conv2D(filters = 64, kernel_size = (3,3),padding = 'Same',activation ='relu', input_shape = (size,size,1)))\n",
    "\n",
    "# filters: Layers early in the network architecture (i.e., closer to the actual input image) \n",
    "# learn fewer convolutional filters while layers deeper in the network \n",
    "# (i.e., closer to the output predictions) will learn more filters.\n",
    "\n",
    "# Max pooling is used to reduce the spatial dimensions of the output volume\n",
    "model.add(MaxPooling2D(pool_size=(2,2)))\n",
    "\n",
    "# padding = same so that the output volume size matches the input volume size\n",
    "model.add(Conv2D(filters = 128, kernel_size = (3,3),padding = 'Same',activation ='relu'))\n",
    "model.add(Conv2D(filters = 128, kernel_size = (3,3),padding = 'Same',activation ='relu'))\n",
    "model.add(Conv2D(filters = 128, kernel_size = (3,3),padding = 'Same',activation ='relu'))\n",
    "\n",
    "model.add(MaxPooling2D(pool_size=(2,2)))\n",
    "\n",
    "# converting multi-dimensional array into one dimensional flatten array or say single dimensional array\n",
    "model.add(Flatten())\n",
    "\n",
    "# Dense Layer is used to classify image based on output from convolutional layers.\n",
    "model.add(Dense(128, activation='relu'))\n",
    "# Each Layer in the Neural Network contains neurons, which compute the weighted average of its input and this weighted average is passed through a non-linear function, called as an “activation function”.\n",
    "# in this case, activation function = relu \n",
    "model.add(Dense(64, activation='relu'))\n",
    "\n",
    "# randomly selected neurons (50%) are ignored during training. They are “dropped out” randomly\n",
    "# (prevent overfitting on the training data)\n",
    "model.add(Dropout(rate=0.5))\n",
    "\n",
    "#Softmax is an activation function that scales numbers/logits into probabilities. The output of a Softmax is a vector (say v ) with probabilities of each possible outcome. \n",
    "model.add(Dense(5, activation = \"softmax\"))\n",
    "\n"
   ]
  },
  {
   "cell_type": "markdown",
   "id": "b5da0b65",
   "metadata": {},
   "source": [
    "### Compile the model"
   ]
  },
  {
   "cell_type": "code",
   "execution_count": 8,
   "id": "778b2aa0",
   "metadata": {},
   "outputs": [
    {
     "name": "stderr",
     "output_type": "stream",
     "text": [
      "WARNING:absl:`lr` is deprecated, please use `learning_rate` instead, or use the legacy optimizer, e.g.,tf.keras.optimizers.legacy.Adam.\n"
     ]
    }
   ],
   "source": [
    "# use adam optimizer algorithm for optimization technique for gradient descent\n",
    "# loss= cat_cross: Used as a loss function for multi-class classification model where there are two or more output labels\n",
    "# metrics= accuracy: Calculates how often predictions equal labels\n",
    "model.compile(optimizer=Adam(lr=0.0001),loss='categorical_crossentropy',metrics=['accuracy'])\n"
   ]
  },
  {
   "cell_type": "code",
   "execution_count": 9,
   "id": "a48c4011",
   "metadata": {},
   "outputs": [],
   "source": [
    "STEP_SIZE_TRAIN=train_generator.n//train_generator.batch_size\n",
    "STEP_SIZE_VALID=valid_generator.n//valid_generator.batch_size\n"
   ]
  },
  {
   "cell_type": "code",
   "execution_count": 10,
   "id": "42f44c19",
   "metadata": {},
   "outputs": [],
   "source": [
    "# Stop training when a monitored metric has stopped improving\n",
    "earlystopping = callbacks.EarlyStopping(monitor =\"val_loss\", \n",
    "                                        mode =\"min\", patience = 5, \n",
    "                                        restore_best_weights = True)"
   ]
  },
  {
   "cell_type": "code",
   "execution_count": null,
   "id": "b9335c99",
   "metadata": {},
   "outputs": [
    {
     "name": "stderr",
     "output_type": "stream",
     "text": [
      "/opt/anaconda3/envs/Ironhack/lib/python3.7/site-packages/ipykernel_launcher.py:6: UserWarning: `Model.fit_generator` is deprecated and will be removed in a future version. Please use `Model.fit`, which supports generators.\n",
      "  \n"
     ]
    },
    {
     "name": "stdout",
     "output_type": "stream",
     "text": [
      "Epoch 1/64\n",
      "98/98 [==============================] - 2095s 21s/step - loss: 1.6982 - accuracy: 0.2916 - val_loss: 1.4417 - val_accuracy: 0.3506\n",
      "Epoch 2/64\n",
      "98/98 [==============================] - 2120s 22s/step - loss: 1.4805 - accuracy: 0.3367 - val_loss: 1.4537 - val_accuracy: 0.3446\n",
      "Epoch 3/64\n",
      "98/98 [==============================] - 2237s 23s/step - loss: 1.4620 - accuracy: 0.3380 - val_loss: 1.4104 - val_accuracy: 0.3646\n",
      "Epoch 4/64\n",
      "98/98 [==============================] - 2080s 21s/step - loss: 1.4444 - accuracy: 0.3646 - val_loss: 1.4142 - val_accuracy: 0.3658\n",
      "Epoch 5/64\n",
      "98/98 [==============================] - 1967s 20s/step - loss: 1.4449 - accuracy: 0.3531 - val_loss: 1.4056 - val_accuracy: 0.3654\n",
      "Epoch 6/64\n",
      "98/98 [==============================] - 2756s 28s/step - loss: 1.4388 - accuracy: 0.3582 - val_loss: 1.4057 - val_accuracy: 0.3622\n",
      "Epoch 7/64\n",
      "98/98 [==============================] - 3731s 38s/step - loss: 1.4434 - accuracy: 0.3569 - val_loss: 1.4088 - val_accuracy: 0.3766\n",
      "Epoch 8/64\n",
      " 2/98 [..............................] - ETA: 25:34 - loss: 1.4820 - accuracy: 0.2656"
     ]
    }
   ],
   "source": [
    "model.fit_generator(generator=train_generator,\n",
    "                    steps_per_epoch=STEP_SIZE_TRAIN,\n",
    "                    validation_data=valid_generator,\n",
    "                    validation_steps=STEP_SIZE_VALID,\n",
    "                    callbacks= [earlystopping],\n",
    "                    epochs=epochs)"
   ]
  },
  {
   "cell_type": "markdown",
   "id": "d2090429",
   "metadata": {},
   "source": [
    "## Evaluate the Model "
   ]
  },
  {
   "cell_type": "code",
   "execution_count": null,
   "id": "254e8a89",
   "metadata": {},
   "outputs": [],
   "source": [
    "model.evaluate_generator(generator=valid_generator,\n",
    "steps=STEP_SIZE_VALID)"
   ]
  },
  {
   "cell_type": "markdown",
   "id": "6b0d45e3",
   "metadata": {},
   "source": [
    "### Predict the Output"
   ]
  },
  {
   "cell_type": "code",
   "execution_count": null,
   "id": "64a8934c",
   "metadata": {},
   "outputs": [],
   "source": [
    "STEP_SIZE_TEST=test_generator.n//test_generator.batch_size\n",
    "test_generator.reset()\n",
    "pred=model.predict_generator(test_generator,\n",
    "steps=STEP_SIZE_TEST,\n",
    "verbose=1)"
   ]
  },
  {
   "cell_type": "markdown",
   "id": "327a503a",
   "metadata": {},
   "source": [
    "### ALWAYS reset test_generator before whenever you call the predict_generator "
   ]
  },
  {
   "cell_type": "code",
   "execution_count": null,
   "id": "9ef5554c",
   "metadata": {},
   "outputs": [],
   "source": [
    "predicted_class_indices=np.argmax(pred,axis=1)\n"
   ]
  }
 ],
 "metadata": {
  "kernelspec": {
   "display_name": "Python 3 (ipykernel)",
   "language": "python",
   "name": "python3"
  },
  "language_info": {
   "codemirror_mode": {
    "name": "ipython",
    "version": 3
   },
   "file_extension": ".py",
   "mimetype": "text/x-python",
   "name": "python",
   "nbconvert_exporter": "python",
   "pygments_lexer": "ipython3",
   "version": "3.7.13"
  }
 },
 "nbformat": 4,
 "nbformat_minor": 5
}
